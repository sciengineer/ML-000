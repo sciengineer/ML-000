{
  "nbformat": 4,
  "nbformat_minor": 0,
  "metadata": {
    "colab": {
      "name": "lgbtest_loan.ipynb",
      "provenance": [],
      "collapsed_sections": [],
      "machine_shape": "hm"
    },
    "kernelspec": {
      "name": "python3",
      "display_name": "Python 3"
    },
    "accelerator": "GPU"
  },
  "cells": [
    {
      "cell_type": "code",
      "metadata": {
        "id": "rfiSda2VWyl1"
      },
      "source": [
        "import pandas as pd\r\n",
        "import lightgbm as lgb\r\n",
        "from sklearn.model_selection import GridSearchCV  # Perforing grid search\r\n",
        "from sklearn.model_selection import train_test_split\r\n",
        "from sklearn.metrics import accuracy_score\r\n",
        "\r\n",
        "train_data = pd.read_csv('drive/MyDrive/Colab Notebooks/train_final.csv')   # 读取训练数据\r\n",
        "test_data = pd.read_csv('drive/MyDrive/Colab Notebooks/test_final.csv') \r\n"
      ],
      "execution_count": 65,
      "outputs": []
    },
    {
      "cell_type": "code",
      "metadata": {
        "colab": {
          "base_uri": "https://localhost:8080/"
        },
        "id": "nTNatqvzcoVC",
        "outputId": "d27cf55a-aa81-425c-b835-c1299099f84a"
      },
      "source": [
        "from google.colab import drive\n",
        "drive.mount('/content/drive')"
      ],
      "execution_count": 52,
      "outputs": [
        {
          "output_type": "stream",
          "text": [
            "Drive already mounted at /content/drive; to attempt to forcibly remount, call drive.mount(\"/content/drive\", force_remount=True).\n"
          ],
          "name": "stdout"
        }
      ]
    },
    {
      "cell_type": "code",
      "metadata": {
        "id": "YHnu3PuvtBAQ"
      },
      "source": [
        "#通过粗调之后使用Gridsearch精调\r\n",
        "parameters = {\r\n",
        "              'max_depth': [5],\r\n",
        "              'num_leaves':[31,32],\r\n",
        "              'learning_rate': [0.1],\r\n",
        "              'feature_fraction': [0.6],\r\n",
        "              'bagging_fraction': [0.9],\r\n",
        "              'n_estimators':[150,200],\r\n",
        "              'lambda_l1':[0.6],\r\n",
        "              'lambda_l2':[0],\r\n",
        "              'bagging_freq':[2,4]           \r\n",
        "}\r\n",
        "gbm = lgb.LGBMClassifier(boosting_type='dart',\r\n",
        "                         objective = 'binary',\r\n",
        "                         metric = 'auc',\r\n",
        "                         device_tpye='gpu',\r\n",
        "                         n_jobs= -1)\r\n",
        "gsearch = GridSearchCV(gbm, param_grid=parameters, scoring='accuracy', cv=5,verbose=5)\r\n",
        "                                  "
      ],
      "execution_count": 66,
      "outputs": []
    },
    {
      "cell_type": "code",
      "metadata": {
        "id": "mXGPl8xUtISe"
      },
      "source": [
        "#原始数据划分x,y\r\n",
        "def origin_data(data):\r\n",
        "  y = data.pop('loan_status').values   # 用pop方式将训练数据中的标签值y取出来，作为训练目标，这里的‘30’是标签的列名\r\n",
        "  col = data.columns\r\n",
        "  x = data[col].values  # 剩下的列作为训练数据\r\n",
        "  return [x,y]"
      ],
      "execution_count": 67,
      "outputs": []
    },
    {
      "cell_type": "code",
      "metadata": {
        "id": "rXmAHfb6t7Fx"
      },
      "source": [
        "#原始数据跑模型\r\n",
        "def run_model_with_origin_data():\r\n",
        "  original_data=origin_data(train_data)\r\n",
        "  x=original_data[0]\r\n",
        "  y=original_data[1]\r\n",
        "\r\n",
        "  gsearch.fit(x,y)\r\n",
        "\r\n",
        "  print(\"Best score: %0.6f\" % gsearch.best_score_)\r\n",
        "  print(\"Best parameters set:\")\r\n",
        "  best_parameters = gsearch.best_estimator_.get_params()\r\n",
        "  for param_name in sorted(parameters.keys()):\r\n",
        "      print(\"\\t%s: %r\" % (param_name, best_parameters[param_name]))\r\n",
        "  best_model=gsearch.best_estimator_ \r\n",
        "  print(best_model)\r\n",
        "  original_data_test=origin_data(test_data)\r\n",
        "  x_test=original_data_test[0]\r\n",
        "  y_test=original_data_test[1]\r\n",
        "  predict_y=best_model.predict(x_test) \r\n",
        "  accuracy=accuracy_score(y_test, predict_y)\r\n",
        "  print('accuracy:%.6f'% accuracy)\r\n",
        "  return accuracy"
      ],
      "execution_count": 68,
      "outputs": []
    },
    {
      "cell_type": "code",
      "metadata": {
        "colab": {
          "base_uri": "https://localhost:8080/"
        },
        "id": "bfuiwQNxv7YI",
        "outputId": "bb70f858-eeab-4a79-d370-98f8679685d4"
      },
      "source": [
        "#原始数据模型准确率\r\n",
        "accuracy=run_model_with_origin_data()"
      ],
      "execution_count": 69,
      "outputs": [
        {
          "output_type": "stream",
          "text": [
            "Fitting 5 folds for each of 8 candidates, totalling 40 fits\n",
            "[CV] bagging_fraction=0.9, bagging_freq=2, feature_fraction=0.6, lambda_l1=0.6, lambda_l2=0, learning_rate=0.1, max_depth=5, n_estimators=150, num_leaves=31 \n"
          ],
          "name": "stdout"
        },
        {
          "output_type": "stream",
          "text": [
            "[Parallel(n_jobs=1)]: Using backend SequentialBackend with 1 concurrent workers.\n"
          ],
          "name": "stderr"
        },
        {
          "output_type": "stream",
          "text": [
            "[CV]  bagging_fraction=0.9, bagging_freq=2, feature_fraction=0.6, lambda_l1=0.6, lambda_l2=0, learning_rate=0.1, max_depth=5, n_estimators=150, num_leaves=31, score=0.925, total=   1.7s\n",
            "[CV] bagging_fraction=0.9, bagging_freq=2, feature_fraction=0.6, lambda_l1=0.6, lambda_l2=0, learning_rate=0.1, max_depth=5, n_estimators=150, num_leaves=31 \n"
          ],
          "name": "stdout"
        },
        {
          "output_type": "stream",
          "text": [
            "[Parallel(n_jobs=1)]: Done   1 out of   1 | elapsed:    1.8s remaining:    0.0s\n"
          ],
          "name": "stderr"
        },
        {
          "output_type": "stream",
          "text": [
            "[CV]  bagging_fraction=0.9, bagging_freq=2, feature_fraction=0.6, lambda_l1=0.6, lambda_l2=0, learning_rate=0.1, max_depth=5, n_estimators=150, num_leaves=31, score=0.920, total=   1.8s\n",
            "[CV] bagging_fraction=0.9, bagging_freq=2, feature_fraction=0.6, lambda_l1=0.6, lambda_l2=0, learning_rate=0.1, max_depth=5, n_estimators=150, num_leaves=31 \n"
          ],
          "name": "stdout"
        },
        {
          "output_type": "stream",
          "text": [
            "[Parallel(n_jobs=1)]: Done   2 out of   2 | elapsed:    3.5s remaining:    0.0s\n"
          ],
          "name": "stderr"
        },
        {
          "output_type": "stream",
          "text": [
            "[CV]  bagging_fraction=0.9, bagging_freq=2, feature_fraction=0.6, lambda_l1=0.6, lambda_l2=0, learning_rate=0.1, max_depth=5, n_estimators=150, num_leaves=31, score=0.917, total=   1.7s\n",
            "[CV] bagging_fraction=0.9, bagging_freq=2, feature_fraction=0.6, lambda_l1=0.6, lambda_l2=0, learning_rate=0.1, max_depth=5, n_estimators=150, num_leaves=31 \n"
          ],
          "name": "stdout"
        },
        {
          "output_type": "stream",
          "text": [
            "[Parallel(n_jobs=1)]: Done   3 out of   3 | elapsed:    5.3s remaining:    0.0s\n"
          ],
          "name": "stderr"
        },
        {
          "output_type": "stream",
          "text": [
            "[CV]  bagging_fraction=0.9, bagging_freq=2, feature_fraction=0.6, lambda_l1=0.6, lambda_l2=0, learning_rate=0.1, max_depth=5, n_estimators=150, num_leaves=31, score=0.917, total=   1.8s\n",
            "[CV] bagging_fraction=0.9, bagging_freq=2, feature_fraction=0.6, lambda_l1=0.6, lambda_l2=0, learning_rate=0.1, max_depth=5, n_estimators=150, num_leaves=31 \n"
          ],
          "name": "stdout"
        },
        {
          "output_type": "stream",
          "text": [
            "[Parallel(n_jobs=1)]: Done   4 out of   4 | elapsed:    7.1s remaining:    0.0s\n"
          ],
          "name": "stderr"
        },
        {
          "output_type": "stream",
          "text": [
            "[CV]  bagging_fraction=0.9, bagging_freq=2, feature_fraction=0.6, lambda_l1=0.6, lambda_l2=0, learning_rate=0.1, max_depth=5, n_estimators=150, num_leaves=31, score=0.917, total=   1.8s\n",
            "[CV] bagging_fraction=0.9, bagging_freq=2, feature_fraction=0.6, lambda_l1=0.6, lambda_l2=0, learning_rate=0.1, max_depth=5, n_estimators=150, num_leaves=32 \n",
            "[CV]  bagging_fraction=0.9, bagging_freq=2, feature_fraction=0.6, lambda_l1=0.6, lambda_l2=0, learning_rate=0.1, max_depth=5, n_estimators=150, num_leaves=32, score=0.925, total=   1.9s\n",
            "[CV] bagging_fraction=0.9, bagging_freq=2, feature_fraction=0.6, lambda_l1=0.6, lambda_l2=0, learning_rate=0.1, max_depth=5, n_estimators=150, num_leaves=32 \n",
            "[CV]  bagging_fraction=0.9, bagging_freq=2, feature_fraction=0.6, lambda_l1=0.6, lambda_l2=0, learning_rate=0.1, max_depth=5, n_estimators=150, num_leaves=32, score=0.919, total=   1.9s\n",
            "[CV] bagging_fraction=0.9, bagging_freq=2, feature_fraction=0.6, lambda_l1=0.6, lambda_l2=0, learning_rate=0.1, max_depth=5, n_estimators=150, num_leaves=32 \n",
            "[CV]  bagging_fraction=0.9, bagging_freq=2, feature_fraction=0.6, lambda_l1=0.6, lambda_l2=0, learning_rate=0.1, max_depth=5, n_estimators=150, num_leaves=32, score=0.916, total=   1.7s\n",
            "[CV] bagging_fraction=0.9, bagging_freq=2, feature_fraction=0.6, lambda_l1=0.6, lambda_l2=0, learning_rate=0.1, max_depth=5, n_estimators=150, num_leaves=32 \n",
            "[CV]  bagging_fraction=0.9, bagging_freq=2, feature_fraction=0.6, lambda_l1=0.6, lambda_l2=0, learning_rate=0.1, max_depth=5, n_estimators=150, num_leaves=32, score=0.917, total=   1.8s\n",
            "[CV] bagging_fraction=0.9, bagging_freq=2, feature_fraction=0.6, lambda_l1=0.6, lambda_l2=0, learning_rate=0.1, max_depth=5, n_estimators=150, num_leaves=32 \n",
            "[CV]  bagging_fraction=0.9, bagging_freq=2, feature_fraction=0.6, lambda_l1=0.6, lambda_l2=0, learning_rate=0.1, max_depth=5, n_estimators=150, num_leaves=32, score=0.917, total=   1.7s\n",
            "[CV] bagging_fraction=0.9, bagging_freq=2, feature_fraction=0.6, lambda_l1=0.6, lambda_l2=0, learning_rate=0.1, max_depth=5, n_estimators=200, num_leaves=31 \n",
            "[CV]  bagging_fraction=0.9, bagging_freq=2, feature_fraction=0.6, lambda_l1=0.6, lambda_l2=0, learning_rate=0.1, max_depth=5, n_estimators=200, num_leaves=31, score=0.924, total=   2.8s\n",
            "[CV] bagging_fraction=0.9, bagging_freq=2, feature_fraction=0.6, lambda_l1=0.6, lambda_l2=0, learning_rate=0.1, max_depth=5, n_estimators=200, num_leaves=31 \n",
            "[CV]  bagging_fraction=0.9, bagging_freq=2, feature_fraction=0.6, lambda_l1=0.6, lambda_l2=0, learning_rate=0.1, max_depth=5, n_estimators=200, num_leaves=31, score=0.920, total=   2.7s\n",
            "[CV] bagging_fraction=0.9, bagging_freq=2, feature_fraction=0.6, lambda_l1=0.6, lambda_l2=0, learning_rate=0.1, max_depth=5, n_estimators=200, num_leaves=31 \n",
            "[CV]  bagging_fraction=0.9, bagging_freq=2, feature_fraction=0.6, lambda_l1=0.6, lambda_l2=0, learning_rate=0.1, max_depth=5, n_estimators=200, num_leaves=31, score=0.916, total=   2.8s\n",
            "[CV] bagging_fraction=0.9, bagging_freq=2, feature_fraction=0.6, lambda_l1=0.6, lambda_l2=0, learning_rate=0.1, max_depth=5, n_estimators=200, num_leaves=31 \n",
            "[CV]  bagging_fraction=0.9, bagging_freq=2, feature_fraction=0.6, lambda_l1=0.6, lambda_l2=0, learning_rate=0.1, max_depth=5, n_estimators=200, num_leaves=31, score=0.918, total=   2.8s\n",
            "[CV] bagging_fraction=0.9, bagging_freq=2, feature_fraction=0.6, lambda_l1=0.6, lambda_l2=0, learning_rate=0.1, max_depth=5, n_estimators=200, num_leaves=31 \n",
            "[CV]  bagging_fraction=0.9, bagging_freq=2, feature_fraction=0.6, lambda_l1=0.6, lambda_l2=0, learning_rate=0.1, max_depth=5, n_estimators=200, num_leaves=31, score=0.918, total=   2.8s\n",
            "[CV] bagging_fraction=0.9, bagging_freq=2, feature_fraction=0.6, lambda_l1=0.6, lambda_l2=0, learning_rate=0.1, max_depth=5, n_estimators=200, num_leaves=32 \n",
            "[CV]  bagging_fraction=0.9, bagging_freq=2, feature_fraction=0.6, lambda_l1=0.6, lambda_l2=0, learning_rate=0.1, max_depth=5, n_estimators=200, num_leaves=32, score=0.926, total=   2.8s\n",
            "[CV] bagging_fraction=0.9, bagging_freq=2, feature_fraction=0.6, lambda_l1=0.6, lambda_l2=0, learning_rate=0.1, max_depth=5, n_estimators=200, num_leaves=32 \n",
            "[CV]  bagging_fraction=0.9, bagging_freq=2, feature_fraction=0.6, lambda_l1=0.6, lambda_l2=0, learning_rate=0.1, max_depth=5, n_estimators=200, num_leaves=32, score=0.919, total=   2.8s\n",
            "[CV] bagging_fraction=0.9, bagging_freq=2, feature_fraction=0.6, lambda_l1=0.6, lambda_l2=0, learning_rate=0.1, max_depth=5, n_estimators=200, num_leaves=32 \n",
            "[CV]  bagging_fraction=0.9, bagging_freq=2, feature_fraction=0.6, lambda_l1=0.6, lambda_l2=0, learning_rate=0.1, max_depth=5, n_estimators=200, num_leaves=32, score=0.916, total=   2.9s\n",
            "[CV] bagging_fraction=0.9, bagging_freq=2, feature_fraction=0.6, lambda_l1=0.6, lambda_l2=0, learning_rate=0.1, max_depth=5, n_estimators=200, num_leaves=32 \n",
            "[CV]  bagging_fraction=0.9, bagging_freq=2, feature_fraction=0.6, lambda_l1=0.6, lambda_l2=0, learning_rate=0.1, max_depth=5, n_estimators=200, num_leaves=32, score=0.917, total=   2.8s\n",
            "[CV] bagging_fraction=0.9, bagging_freq=2, feature_fraction=0.6, lambda_l1=0.6, lambda_l2=0, learning_rate=0.1, max_depth=5, n_estimators=200, num_leaves=32 \n",
            "[CV]  bagging_fraction=0.9, bagging_freq=2, feature_fraction=0.6, lambda_l1=0.6, lambda_l2=0, learning_rate=0.1, max_depth=5, n_estimators=200, num_leaves=32, score=0.918, total=   2.8s\n",
            "[CV] bagging_fraction=0.9, bagging_freq=4, feature_fraction=0.6, lambda_l1=0.6, lambda_l2=0, learning_rate=0.1, max_depth=5, n_estimators=150, num_leaves=31 \n",
            "[CV]  bagging_fraction=0.9, bagging_freq=4, feature_fraction=0.6, lambda_l1=0.6, lambda_l2=0, learning_rate=0.1, max_depth=5, n_estimators=150, num_leaves=31, score=0.925, total=   1.8s\n",
            "[CV] bagging_fraction=0.9, bagging_freq=4, feature_fraction=0.6, lambda_l1=0.6, lambda_l2=0, learning_rate=0.1, max_depth=5, n_estimators=150, num_leaves=31 \n",
            "[CV]  bagging_fraction=0.9, bagging_freq=4, feature_fraction=0.6, lambda_l1=0.6, lambda_l2=0, learning_rate=0.1, max_depth=5, n_estimators=150, num_leaves=31, score=0.919, total=   1.8s\n",
            "[CV] bagging_fraction=0.9, bagging_freq=4, feature_fraction=0.6, lambda_l1=0.6, lambda_l2=0, learning_rate=0.1, max_depth=5, n_estimators=150, num_leaves=31 \n",
            "[CV]  bagging_fraction=0.9, bagging_freq=4, feature_fraction=0.6, lambda_l1=0.6, lambda_l2=0, learning_rate=0.1, max_depth=5, n_estimators=150, num_leaves=31, score=0.916, total=   1.7s\n",
            "[CV] bagging_fraction=0.9, bagging_freq=4, feature_fraction=0.6, lambda_l1=0.6, lambda_l2=0, learning_rate=0.1, max_depth=5, n_estimators=150, num_leaves=31 \n",
            "[CV]  bagging_fraction=0.9, bagging_freq=4, feature_fraction=0.6, lambda_l1=0.6, lambda_l2=0, learning_rate=0.1, max_depth=5, n_estimators=150, num_leaves=31, score=0.917, total=   1.8s\n",
            "[CV] bagging_fraction=0.9, bagging_freq=4, feature_fraction=0.6, lambda_l1=0.6, lambda_l2=0, learning_rate=0.1, max_depth=5, n_estimators=150, num_leaves=31 \n",
            "[CV]  bagging_fraction=0.9, bagging_freq=4, feature_fraction=0.6, lambda_l1=0.6, lambda_l2=0, learning_rate=0.1, max_depth=5, n_estimators=150, num_leaves=31, score=0.919, total=   1.8s\n",
            "[CV] bagging_fraction=0.9, bagging_freq=4, feature_fraction=0.6, lambda_l1=0.6, lambda_l2=0, learning_rate=0.1, max_depth=5, n_estimators=150, num_leaves=32 \n",
            "[CV]  bagging_fraction=0.9, bagging_freq=4, feature_fraction=0.6, lambda_l1=0.6, lambda_l2=0, learning_rate=0.1, max_depth=5, n_estimators=150, num_leaves=32, score=0.925, total=   1.8s\n",
            "[CV] bagging_fraction=0.9, bagging_freq=4, feature_fraction=0.6, lambda_l1=0.6, lambda_l2=0, learning_rate=0.1, max_depth=5, n_estimators=150, num_leaves=32 \n",
            "[CV]  bagging_fraction=0.9, bagging_freq=4, feature_fraction=0.6, lambda_l1=0.6, lambda_l2=0, learning_rate=0.1, max_depth=5, n_estimators=150, num_leaves=32, score=0.919, total=   1.8s\n",
            "[CV] bagging_fraction=0.9, bagging_freq=4, feature_fraction=0.6, lambda_l1=0.6, lambda_l2=0, learning_rate=0.1, max_depth=5, n_estimators=150, num_leaves=32 \n",
            "[CV]  bagging_fraction=0.9, bagging_freq=4, feature_fraction=0.6, lambda_l1=0.6, lambda_l2=0, learning_rate=0.1, max_depth=5, n_estimators=150, num_leaves=32, score=0.918, total=   1.7s\n",
            "[CV] bagging_fraction=0.9, bagging_freq=4, feature_fraction=0.6, lambda_l1=0.6, lambda_l2=0, learning_rate=0.1, max_depth=5, n_estimators=150, num_leaves=32 \n",
            "[CV]  bagging_fraction=0.9, bagging_freq=4, feature_fraction=0.6, lambda_l1=0.6, lambda_l2=0, learning_rate=0.1, max_depth=5, n_estimators=150, num_leaves=32, score=0.917, total=   1.7s\n",
            "[CV] bagging_fraction=0.9, bagging_freq=4, feature_fraction=0.6, lambda_l1=0.6, lambda_l2=0, learning_rate=0.1, max_depth=5, n_estimators=150, num_leaves=32 \n",
            "[CV]  bagging_fraction=0.9, bagging_freq=4, feature_fraction=0.6, lambda_l1=0.6, lambda_l2=0, learning_rate=0.1, max_depth=5, n_estimators=150, num_leaves=32, score=0.918, total=   1.9s\n",
            "[CV] bagging_fraction=0.9, bagging_freq=4, feature_fraction=0.6, lambda_l1=0.6, lambda_l2=0, learning_rate=0.1, max_depth=5, n_estimators=200, num_leaves=31 \n",
            "[CV]  bagging_fraction=0.9, bagging_freq=4, feature_fraction=0.6, lambda_l1=0.6, lambda_l2=0, learning_rate=0.1, max_depth=5, n_estimators=200, num_leaves=31, score=0.925, total=   2.8s\n",
            "[CV] bagging_fraction=0.9, bagging_freq=4, feature_fraction=0.6, lambda_l1=0.6, lambda_l2=0, learning_rate=0.1, max_depth=5, n_estimators=200, num_leaves=31 \n",
            "[CV]  bagging_fraction=0.9, bagging_freq=4, feature_fraction=0.6, lambda_l1=0.6, lambda_l2=0, learning_rate=0.1, max_depth=5, n_estimators=200, num_leaves=31, score=0.920, total=   2.8s\n",
            "[CV] bagging_fraction=0.9, bagging_freq=4, feature_fraction=0.6, lambda_l1=0.6, lambda_l2=0, learning_rate=0.1, max_depth=5, n_estimators=200, num_leaves=31 \n",
            "[CV]  bagging_fraction=0.9, bagging_freq=4, feature_fraction=0.6, lambda_l1=0.6, lambda_l2=0, learning_rate=0.1, max_depth=5, n_estimators=200, num_leaves=31, score=0.918, total=   2.7s\n",
            "[CV] bagging_fraction=0.9, bagging_freq=4, feature_fraction=0.6, lambda_l1=0.6, lambda_l2=0, learning_rate=0.1, max_depth=5, n_estimators=200, num_leaves=31 \n",
            "[CV]  bagging_fraction=0.9, bagging_freq=4, feature_fraction=0.6, lambda_l1=0.6, lambda_l2=0, learning_rate=0.1, max_depth=5, n_estimators=200, num_leaves=31, score=0.918, total=   2.8s\n",
            "[CV] bagging_fraction=0.9, bagging_freq=4, feature_fraction=0.6, lambda_l1=0.6, lambda_l2=0, learning_rate=0.1, max_depth=5, n_estimators=200, num_leaves=31 \n",
            "[CV]  bagging_fraction=0.9, bagging_freq=4, feature_fraction=0.6, lambda_l1=0.6, lambda_l2=0, learning_rate=0.1, max_depth=5, n_estimators=200, num_leaves=31, score=0.920, total=   2.8s\n",
            "[CV] bagging_fraction=0.9, bagging_freq=4, feature_fraction=0.6, lambda_l1=0.6, lambda_l2=0, learning_rate=0.1, max_depth=5, n_estimators=200, num_leaves=32 \n",
            "[CV]  bagging_fraction=0.9, bagging_freq=4, feature_fraction=0.6, lambda_l1=0.6, lambda_l2=0, learning_rate=0.1, max_depth=5, n_estimators=200, num_leaves=32, score=0.925, total=   2.7s\n",
            "[CV] bagging_fraction=0.9, bagging_freq=4, feature_fraction=0.6, lambda_l1=0.6, lambda_l2=0, learning_rate=0.1, max_depth=5, n_estimators=200, num_leaves=32 \n",
            "[CV]  bagging_fraction=0.9, bagging_freq=4, feature_fraction=0.6, lambda_l1=0.6, lambda_l2=0, learning_rate=0.1, max_depth=5, n_estimators=200, num_leaves=32, score=0.920, total=   2.7s\n",
            "[CV] bagging_fraction=0.9, bagging_freq=4, feature_fraction=0.6, lambda_l1=0.6, lambda_l2=0, learning_rate=0.1, max_depth=5, n_estimators=200, num_leaves=32 \n",
            "[CV]  bagging_fraction=0.9, bagging_freq=4, feature_fraction=0.6, lambda_l1=0.6, lambda_l2=0, learning_rate=0.1, max_depth=5, n_estimators=200, num_leaves=32, score=0.917, total=   2.8s\n",
            "[CV] bagging_fraction=0.9, bagging_freq=4, feature_fraction=0.6, lambda_l1=0.6, lambda_l2=0, learning_rate=0.1, max_depth=5, n_estimators=200, num_leaves=32 \n",
            "[CV]  bagging_fraction=0.9, bagging_freq=4, feature_fraction=0.6, lambda_l1=0.6, lambda_l2=0, learning_rate=0.1, max_depth=5, n_estimators=200, num_leaves=32, score=0.917, total=   2.8s\n",
            "[CV] bagging_fraction=0.9, bagging_freq=4, feature_fraction=0.6, lambda_l1=0.6, lambda_l2=0, learning_rate=0.1, max_depth=5, n_estimators=200, num_leaves=32 \n",
            "[CV]  bagging_fraction=0.9, bagging_freq=4, feature_fraction=0.6, lambda_l1=0.6, lambda_l2=0, learning_rate=0.1, max_depth=5, n_estimators=200, num_leaves=32, score=0.918, total=   2.8s\n"
          ],
          "name": "stdout"
        },
        {
          "output_type": "stream",
          "text": [
            "[Parallel(n_jobs=1)]: Done  40 out of  40 | elapsed:  1.5min finished\n"
          ],
          "name": "stderr"
        },
        {
          "output_type": "stream",
          "text": [
            "Best score: 0.920080\n",
            "Best parameters set:\n",
            "\tbagging_fraction: 0.9\n",
            "\tbagging_freq: 4\n",
            "\tfeature_fraction: 0.6\n",
            "\tlambda_l1: 0.6\n",
            "\tlambda_l2: 0\n",
            "\tlearning_rate: 0.1\n",
            "\tmax_depth: 5\n",
            "\tn_estimators: 200\n",
            "\tnum_leaves: 31\n",
            "LGBMClassifier(bagging_fraction=0.9, bagging_freq=4, boosting_type='dart',\n",
            "               class_weight=None, colsample_bytree=1.0, device_tpye='gpu',\n",
            "               feature_fraction=0.6, importance_type='split', lambda_l1=0.6,\n",
            "               lambda_l2=0, learning_rate=0.1, max_depth=5, metric='auc',\n",
            "               min_child_samples=20, min_child_weight=0.001, min_split_gain=0.0,\n",
            "               n_estimators=200, n_jobs=-1, num_leaves=31, objective='binary',\n",
            "               random_state=None, reg_alpha=0.0, reg_lambda=0.0, silent=True,\n",
            "               subsample=1.0, subsample_for_bin=200000, subsample_freq=0)\n",
            "accuracy:0.917780\n"
          ],
          "name": "stdout"
        }
      ]
    },
    {
      "cell_type": "code",
      "metadata": {
        "id": "XGx6NOFnxB0l"
      },
      "source": [
        "#再次读取数据\r\n",
        "train_data = pd.read_csv('drive/MyDrive/Colab Notebooks/train_final.csv')  \r\n",
        "test_data = pd.read_csv('drive/MyDrive/Colab Notebooks/test_final.csv') "
      ],
      "execution_count": 70,
      "outputs": []
    },
    {
      "cell_type": "code",
      "metadata": {
        "id": "7fmGV4Ic3n3b"
      },
      "source": [
        "#构造衍生变量continuous_installment_income_ratio(ciir):\r\n",
        "def add_ciir(data):\r\n",
        "\r\n",
        "  monthly_income=data.continuous_annual_inc/12\r\n",
        "  continuous_installment_income_ratio=data.continuous_installment/monthly_income\r\n",
        "  continuous_installment_income_ratio=round(continuous_installment_income_ratio,2)\r\n",
        "  try:\r\n",
        "    data.insert(146,'continuous_installment_income_ratio',continuous_installment_income_ratio)#插入新增变量2数据\r\n",
        "  except:\r\n",
        "    print(\"already exists\")\r\n",
        "  data['continuous_installment_income_ratio']=data['continuous_installment_income_ratio'].astype('float64')\r\n",
        "\r\n",
        "  y = data.pop('loan_status').values   # 用pop方式将训练数据中的标签值y取出来，作为训练目标，这里的‘30’是标签的列名\r\n",
        "  col = data.columns\r\n",
        "  x = data[col].values  # 剩下的列作为训练数据\r\n",
        "  return [x,y]"
      ],
      "execution_count": 71,
      "outputs": []
    },
    {
      "cell_type": "code",
      "metadata": {
        "id": "BcYGgJ81DVU9"
      },
      "source": [
        "#使用增加这个衍生变量后的数据跑模型\r\n",
        "def run_model_with_added_variable():\r\n",
        "\r\n",
        "\r\n",
        "  added_ciir_data=add_ciir(train_data)\r\n",
        "  x=added_ciir_data[0]\r\n",
        "  y=added_ciir_data[1]\r\n",
        "\r\n",
        "  gsearch.fit(x,y)\r\n",
        "\r\n",
        "  print(\"Best score: %0.6f\" % gsearch.best_score_)\r\n",
        "  print(\"Best parameters set:\")\r\n",
        "  best_parameters = gsearch.best_estimator_.get_params()\r\n",
        "  for param_name in sorted(parameters.keys()):\r\n",
        "      print(\"\\t%s: %r\" % (param_name, best_parameters[param_name]))\r\n",
        "  best_model=gsearch.best_estimator_ \r\n",
        "  print(best_model)\r\n",
        "  added_ciir_data_test=add_ciir(test_data)\r\n",
        "  x_test=added_ciir_data_test[0]\r\n",
        "  y_test=added_ciir_data_test[1]\r\n",
        "  predict_y=best_model.predict(x_test) \r\n",
        "  accuracy_added=accuracy_score(y_test, predict_y)\r\n",
        "  print('accuracy:%.6f'% accuracy_added)\r\n",
        "  return accuracy_added"
      ],
      "execution_count": 72,
      "outputs": []
    },
    {
      "cell_type": "code",
      "metadata": {
        "colab": {
          "base_uri": "https://localhost:8080/"
        },
        "id": "T0bONF1Xwozt",
        "outputId": "25e2c0d3-7ddc-44cc-9a82-0f79d73e5090"
      },
      "source": [
        "#增加衍生变量后的数据模型准确率\r\n",
        "accuracy_added=run_model_with_added_variable()\r\n",
        "#增加衍生变量后的数据模型准确率提升值\r\n",
        "print(accuracy_added-accuracy)"
      ],
      "execution_count": 73,
      "outputs": [
        {
          "output_type": "stream",
          "text": [
            "Fitting 5 folds for each of 8 candidates, totalling 40 fits\n",
            "[CV] bagging_fraction=0.9, bagging_freq=2, feature_fraction=0.6, lambda_l1=0.6, lambda_l2=0, learning_rate=0.1, max_depth=5, n_estimators=150, num_leaves=31 \n"
          ],
          "name": "stdout"
        },
        {
          "output_type": "stream",
          "text": [
            "[Parallel(n_jobs=1)]: Using backend SequentialBackend with 1 concurrent workers.\n"
          ],
          "name": "stderr"
        },
        {
          "output_type": "stream",
          "text": [
            "[CV]  bagging_fraction=0.9, bagging_freq=2, feature_fraction=0.6, lambda_l1=0.6, lambda_l2=0, learning_rate=0.1, max_depth=5, n_estimators=150, num_leaves=31, score=0.925, total=   1.9s\n",
            "[CV] bagging_fraction=0.9, bagging_freq=2, feature_fraction=0.6, lambda_l1=0.6, lambda_l2=0, learning_rate=0.1, max_depth=5, n_estimators=150, num_leaves=31 \n"
          ],
          "name": "stdout"
        },
        {
          "output_type": "stream",
          "text": [
            "[Parallel(n_jobs=1)]: Done   1 out of   1 | elapsed:    1.9s remaining:    0.0s\n"
          ],
          "name": "stderr"
        },
        {
          "output_type": "stream",
          "text": [
            "[CV]  bagging_fraction=0.9, bagging_freq=2, feature_fraction=0.6, lambda_l1=0.6, lambda_l2=0, learning_rate=0.1, max_depth=5, n_estimators=150, num_leaves=31, score=0.919, total=   1.8s\n",
            "[CV] bagging_fraction=0.9, bagging_freq=2, feature_fraction=0.6, lambda_l1=0.6, lambda_l2=0, learning_rate=0.1, max_depth=5, n_estimators=150, num_leaves=31 \n"
          ],
          "name": "stdout"
        },
        {
          "output_type": "stream",
          "text": [
            "[Parallel(n_jobs=1)]: Done   2 out of   2 | elapsed:    3.7s remaining:    0.0s\n"
          ],
          "name": "stderr"
        },
        {
          "output_type": "stream",
          "text": [
            "[CV]  bagging_fraction=0.9, bagging_freq=2, feature_fraction=0.6, lambda_l1=0.6, lambda_l2=0, learning_rate=0.1, max_depth=5, n_estimators=150, num_leaves=31, score=0.916, total=   1.8s\n",
            "[CV] bagging_fraction=0.9, bagging_freq=2, feature_fraction=0.6, lambda_l1=0.6, lambda_l2=0, learning_rate=0.1, max_depth=5, n_estimators=150, num_leaves=31 \n"
          ],
          "name": "stdout"
        },
        {
          "output_type": "stream",
          "text": [
            "[Parallel(n_jobs=1)]: Done   3 out of   3 | elapsed:    5.5s remaining:    0.0s\n"
          ],
          "name": "stderr"
        },
        {
          "output_type": "stream",
          "text": [
            "[CV]  bagging_fraction=0.9, bagging_freq=2, feature_fraction=0.6, lambda_l1=0.6, lambda_l2=0, learning_rate=0.1, max_depth=5, n_estimators=150, num_leaves=31, score=0.917, total=   1.8s\n",
            "[CV] bagging_fraction=0.9, bagging_freq=2, feature_fraction=0.6, lambda_l1=0.6, lambda_l2=0, learning_rate=0.1, max_depth=5, n_estimators=150, num_leaves=31 \n"
          ],
          "name": "stdout"
        },
        {
          "output_type": "stream",
          "text": [
            "[Parallel(n_jobs=1)]: Done   4 out of   4 | elapsed:    7.3s remaining:    0.0s\n"
          ],
          "name": "stderr"
        },
        {
          "output_type": "stream",
          "text": [
            "[CV]  bagging_fraction=0.9, bagging_freq=2, feature_fraction=0.6, lambda_l1=0.6, lambda_l2=0, learning_rate=0.1, max_depth=5, n_estimators=150, num_leaves=31, score=0.917, total=   1.8s\n",
            "[CV] bagging_fraction=0.9, bagging_freq=2, feature_fraction=0.6, lambda_l1=0.6, lambda_l2=0, learning_rate=0.1, max_depth=5, n_estimators=150, num_leaves=32 \n",
            "[CV]  bagging_fraction=0.9, bagging_freq=2, feature_fraction=0.6, lambda_l1=0.6, lambda_l2=0, learning_rate=0.1, max_depth=5, n_estimators=150, num_leaves=32, score=0.927, total=   1.8s\n",
            "[CV] bagging_fraction=0.9, bagging_freq=2, feature_fraction=0.6, lambda_l1=0.6, lambda_l2=0, learning_rate=0.1, max_depth=5, n_estimators=150, num_leaves=32 \n",
            "[CV]  bagging_fraction=0.9, bagging_freq=2, feature_fraction=0.6, lambda_l1=0.6, lambda_l2=0, learning_rate=0.1, max_depth=5, n_estimators=150, num_leaves=32, score=0.920, total=   1.8s\n",
            "[CV] bagging_fraction=0.9, bagging_freq=2, feature_fraction=0.6, lambda_l1=0.6, lambda_l2=0, learning_rate=0.1, max_depth=5, n_estimators=150, num_leaves=32 \n",
            "[CV]  bagging_fraction=0.9, bagging_freq=2, feature_fraction=0.6, lambda_l1=0.6, lambda_l2=0, learning_rate=0.1, max_depth=5, n_estimators=150, num_leaves=32, score=0.917, total=   1.8s\n",
            "[CV] bagging_fraction=0.9, bagging_freq=2, feature_fraction=0.6, lambda_l1=0.6, lambda_l2=0, learning_rate=0.1, max_depth=5, n_estimators=150, num_leaves=32 \n",
            "[CV]  bagging_fraction=0.9, bagging_freq=2, feature_fraction=0.6, lambda_l1=0.6, lambda_l2=0, learning_rate=0.1, max_depth=5, n_estimators=150, num_leaves=32, score=0.917, total=   1.8s\n",
            "[CV] bagging_fraction=0.9, bagging_freq=2, feature_fraction=0.6, lambda_l1=0.6, lambda_l2=0, learning_rate=0.1, max_depth=5, n_estimators=150, num_leaves=32 \n",
            "[CV]  bagging_fraction=0.9, bagging_freq=2, feature_fraction=0.6, lambda_l1=0.6, lambda_l2=0, learning_rate=0.1, max_depth=5, n_estimators=150, num_leaves=32, score=0.918, total=   1.8s\n",
            "[CV] bagging_fraction=0.9, bagging_freq=2, feature_fraction=0.6, lambda_l1=0.6, lambda_l2=0, learning_rate=0.1, max_depth=5, n_estimators=200, num_leaves=31 \n",
            "[CV]  bagging_fraction=0.9, bagging_freq=2, feature_fraction=0.6, lambda_l1=0.6, lambda_l2=0, learning_rate=0.1, max_depth=5, n_estimators=200, num_leaves=31, score=0.925, total=   2.8s\n",
            "[CV] bagging_fraction=0.9, bagging_freq=2, feature_fraction=0.6, lambda_l1=0.6, lambda_l2=0, learning_rate=0.1, max_depth=5, n_estimators=200, num_leaves=31 \n",
            "[CV]  bagging_fraction=0.9, bagging_freq=2, feature_fraction=0.6, lambda_l1=0.6, lambda_l2=0, learning_rate=0.1, max_depth=5, n_estimators=200, num_leaves=31, score=0.920, total=   2.8s\n",
            "[CV] bagging_fraction=0.9, bagging_freq=2, feature_fraction=0.6, lambda_l1=0.6, lambda_l2=0, learning_rate=0.1, max_depth=5, n_estimators=200, num_leaves=31 \n",
            "[CV]  bagging_fraction=0.9, bagging_freq=2, feature_fraction=0.6, lambda_l1=0.6, lambda_l2=0, learning_rate=0.1, max_depth=5, n_estimators=200, num_leaves=31, score=0.917, total=   2.8s\n",
            "[CV] bagging_fraction=0.9, bagging_freq=2, feature_fraction=0.6, lambda_l1=0.6, lambda_l2=0, learning_rate=0.1, max_depth=5, n_estimators=200, num_leaves=31 \n",
            "[CV]  bagging_fraction=0.9, bagging_freq=2, feature_fraction=0.6, lambda_l1=0.6, lambda_l2=0, learning_rate=0.1, max_depth=5, n_estimators=200, num_leaves=31, score=0.918, total=   2.8s\n",
            "[CV] bagging_fraction=0.9, bagging_freq=2, feature_fraction=0.6, lambda_l1=0.6, lambda_l2=0, learning_rate=0.1, max_depth=5, n_estimators=200, num_leaves=31 \n",
            "[CV]  bagging_fraction=0.9, bagging_freq=2, feature_fraction=0.6, lambda_l1=0.6, lambda_l2=0, learning_rate=0.1, max_depth=5, n_estimators=200, num_leaves=31, score=0.918, total=   2.8s\n",
            "[CV] bagging_fraction=0.9, bagging_freq=2, feature_fraction=0.6, lambda_l1=0.6, lambda_l2=0, learning_rate=0.1, max_depth=5, n_estimators=200, num_leaves=32 \n",
            "[CV]  bagging_fraction=0.9, bagging_freq=2, feature_fraction=0.6, lambda_l1=0.6, lambda_l2=0, learning_rate=0.1, max_depth=5, n_estimators=200, num_leaves=32, score=0.926, total=   2.9s\n",
            "[CV] bagging_fraction=0.9, bagging_freq=2, feature_fraction=0.6, lambda_l1=0.6, lambda_l2=0, learning_rate=0.1, max_depth=5, n_estimators=200, num_leaves=32 \n",
            "[CV]  bagging_fraction=0.9, bagging_freq=2, feature_fraction=0.6, lambda_l1=0.6, lambda_l2=0, learning_rate=0.1, max_depth=5, n_estimators=200, num_leaves=32, score=0.920, total=   2.9s\n",
            "[CV] bagging_fraction=0.9, bagging_freq=2, feature_fraction=0.6, lambda_l1=0.6, lambda_l2=0, learning_rate=0.1, max_depth=5, n_estimators=200, num_leaves=32 \n",
            "[CV]  bagging_fraction=0.9, bagging_freq=2, feature_fraction=0.6, lambda_l1=0.6, lambda_l2=0, learning_rate=0.1, max_depth=5, n_estimators=200, num_leaves=32, score=0.917, total=   2.8s\n",
            "[CV] bagging_fraction=0.9, bagging_freq=2, feature_fraction=0.6, lambda_l1=0.6, lambda_l2=0, learning_rate=0.1, max_depth=5, n_estimators=200, num_leaves=32 \n",
            "[CV]  bagging_fraction=0.9, bagging_freq=2, feature_fraction=0.6, lambda_l1=0.6, lambda_l2=0, learning_rate=0.1, max_depth=5, n_estimators=200, num_leaves=32, score=0.918, total=   2.8s\n",
            "[CV] bagging_fraction=0.9, bagging_freq=2, feature_fraction=0.6, lambda_l1=0.6, lambda_l2=0, learning_rate=0.1, max_depth=5, n_estimators=200, num_leaves=32 \n",
            "[CV]  bagging_fraction=0.9, bagging_freq=2, feature_fraction=0.6, lambda_l1=0.6, lambda_l2=0, learning_rate=0.1, max_depth=5, n_estimators=200, num_leaves=32, score=0.917, total=   2.8s\n",
            "[CV] bagging_fraction=0.9, bagging_freq=4, feature_fraction=0.6, lambda_l1=0.6, lambda_l2=0, learning_rate=0.1, max_depth=5, n_estimators=150, num_leaves=31 \n",
            "[CV]  bagging_fraction=0.9, bagging_freq=4, feature_fraction=0.6, lambda_l1=0.6, lambda_l2=0, learning_rate=0.1, max_depth=5, n_estimators=150, num_leaves=31, score=0.925, total=   1.8s\n",
            "[CV] bagging_fraction=0.9, bagging_freq=4, feature_fraction=0.6, lambda_l1=0.6, lambda_l2=0, learning_rate=0.1, max_depth=5, n_estimators=150, num_leaves=31 \n",
            "[CV]  bagging_fraction=0.9, bagging_freq=4, feature_fraction=0.6, lambda_l1=0.6, lambda_l2=0, learning_rate=0.1, max_depth=5, n_estimators=150, num_leaves=31, score=0.920, total=   1.8s\n",
            "[CV] bagging_fraction=0.9, bagging_freq=4, feature_fraction=0.6, lambda_l1=0.6, lambda_l2=0, learning_rate=0.1, max_depth=5, n_estimators=150, num_leaves=31 \n",
            "[CV]  bagging_fraction=0.9, bagging_freq=4, feature_fraction=0.6, lambda_l1=0.6, lambda_l2=0, learning_rate=0.1, max_depth=5, n_estimators=150, num_leaves=31, score=0.917, total=   1.8s\n",
            "[CV] bagging_fraction=0.9, bagging_freq=4, feature_fraction=0.6, lambda_l1=0.6, lambda_l2=0, learning_rate=0.1, max_depth=5, n_estimators=150, num_leaves=31 \n",
            "[CV]  bagging_fraction=0.9, bagging_freq=4, feature_fraction=0.6, lambda_l1=0.6, lambda_l2=0, learning_rate=0.1, max_depth=5, n_estimators=150, num_leaves=31, score=0.916, total=   1.9s\n",
            "[CV] bagging_fraction=0.9, bagging_freq=4, feature_fraction=0.6, lambda_l1=0.6, lambda_l2=0, learning_rate=0.1, max_depth=5, n_estimators=150, num_leaves=31 \n",
            "[CV]  bagging_fraction=0.9, bagging_freq=4, feature_fraction=0.6, lambda_l1=0.6, lambda_l2=0, learning_rate=0.1, max_depth=5, n_estimators=150, num_leaves=31, score=0.917, total=   1.9s\n",
            "[CV] bagging_fraction=0.9, bagging_freq=4, feature_fraction=0.6, lambda_l1=0.6, lambda_l2=0, learning_rate=0.1, max_depth=5, n_estimators=150, num_leaves=32 \n",
            "[CV]  bagging_fraction=0.9, bagging_freq=4, feature_fraction=0.6, lambda_l1=0.6, lambda_l2=0, learning_rate=0.1, max_depth=5, n_estimators=150, num_leaves=32, score=0.925, total=   1.8s\n",
            "[CV] bagging_fraction=0.9, bagging_freq=4, feature_fraction=0.6, lambda_l1=0.6, lambda_l2=0, learning_rate=0.1, max_depth=5, n_estimators=150, num_leaves=32 \n",
            "[CV]  bagging_fraction=0.9, bagging_freq=4, feature_fraction=0.6, lambda_l1=0.6, lambda_l2=0, learning_rate=0.1, max_depth=5, n_estimators=150, num_leaves=32, score=0.920, total=   1.8s\n",
            "[CV] bagging_fraction=0.9, bagging_freq=4, feature_fraction=0.6, lambda_l1=0.6, lambda_l2=0, learning_rate=0.1, max_depth=5, n_estimators=150, num_leaves=32 \n",
            "[CV]  bagging_fraction=0.9, bagging_freq=4, feature_fraction=0.6, lambda_l1=0.6, lambda_l2=0, learning_rate=0.1, max_depth=5, n_estimators=150, num_leaves=32, score=0.917, total=   1.8s\n",
            "[CV] bagging_fraction=0.9, bagging_freq=4, feature_fraction=0.6, lambda_l1=0.6, lambda_l2=0, learning_rate=0.1, max_depth=5, n_estimators=150, num_leaves=32 \n",
            "[CV]  bagging_fraction=0.9, bagging_freq=4, feature_fraction=0.6, lambda_l1=0.6, lambda_l2=0, learning_rate=0.1, max_depth=5, n_estimators=150, num_leaves=32, score=0.916, total=   1.8s\n",
            "[CV] bagging_fraction=0.9, bagging_freq=4, feature_fraction=0.6, lambda_l1=0.6, lambda_l2=0, learning_rate=0.1, max_depth=5, n_estimators=150, num_leaves=32 \n",
            "[CV]  bagging_fraction=0.9, bagging_freq=4, feature_fraction=0.6, lambda_l1=0.6, lambda_l2=0, learning_rate=0.1, max_depth=5, n_estimators=150, num_leaves=32, score=0.916, total=   1.8s\n",
            "[CV] bagging_fraction=0.9, bagging_freq=4, feature_fraction=0.6, lambda_l1=0.6, lambda_l2=0, learning_rate=0.1, max_depth=5, n_estimators=200, num_leaves=31 \n",
            "[CV]  bagging_fraction=0.9, bagging_freq=4, feature_fraction=0.6, lambda_l1=0.6, lambda_l2=0, learning_rate=0.1, max_depth=5, n_estimators=200, num_leaves=31, score=0.925, total=   2.7s\n",
            "[CV] bagging_fraction=0.9, bagging_freq=4, feature_fraction=0.6, lambda_l1=0.6, lambda_l2=0, learning_rate=0.1, max_depth=5, n_estimators=200, num_leaves=31 \n",
            "[CV]  bagging_fraction=0.9, bagging_freq=4, feature_fraction=0.6, lambda_l1=0.6, lambda_l2=0, learning_rate=0.1, max_depth=5, n_estimators=200, num_leaves=31, score=0.921, total=   2.7s\n",
            "[CV] bagging_fraction=0.9, bagging_freq=4, feature_fraction=0.6, lambda_l1=0.6, lambda_l2=0, learning_rate=0.1, max_depth=5, n_estimators=200, num_leaves=31 \n",
            "[CV]  bagging_fraction=0.9, bagging_freq=4, feature_fraction=0.6, lambda_l1=0.6, lambda_l2=0, learning_rate=0.1, max_depth=5, n_estimators=200, num_leaves=31, score=0.916, total=   2.8s\n",
            "[CV] bagging_fraction=0.9, bagging_freq=4, feature_fraction=0.6, lambda_l1=0.6, lambda_l2=0, learning_rate=0.1, max_depth=5, n_estimators=200, num_leaves=31 \n",
            "[CV]  bagging_fraction=0.9, bagging_freq=4, feature_fraction=0.6, lambda_l1=0.6, lambda_l2=0, learning_rate=0.1, max_depth=5, n_estimators=200, num_leaves=31, score=0.917, total=   2.9s\n",
            "[CV] bagging_fraction=0.9, bagging_freq=4, feature_fraction=0.6, lambda_l1=0.6, lambda_l2=0, learning_rate=0.1, max_depth=5, n_estimators=200, num_leaves=31 \n",
            "[CV]  bagging_fraction=0.9, bagging_freq=4, feature_fraction=0.6, lambda_l1=0.6, lambda_l2=0, learning_rate=0.1, max_depth=5, n_estimators=200, num_leaves=31, score=0.917, total=   2.7s\n",
            "[CV] bagging_fraction=0.9, bagging_freq=4, feature_fraction=0.6, lambda_l1=0.6, lambda_l2=0, learning_rate=0.1, max_depth=5, n_estimators=200, num_leaves=32 \n",
            "[CV]  bagging_fraction=0.9, bagging_freq=4, feature_fraction=0.6, lambda_l1=0.6, lambda_l2=0, learning_rate=0.1, max_depth=5, n_estimators=200, num_leaves=32, score=0.925, total=   2.7s\n",
            "[CV] bagging_fraction=0.9, bagging_freq=4, feature_fraction=0.6, lambda_l1=0.6, lambda_l2=0, learning_rate=0.1, max_depth=5, n_estimators=200, num_leaves=32 \n",
            "[CV]  bagging_fraction=0.9, bagging_freq=4, feature_fraction=0.6, lambda_l1=0.6, lambda_l2=0, learning_rate=0.1, max_depth=5, n_estimators=200, num_leaves=32, score=0.921, total=   2.7s\n",
            "[CV] bagging_fraction=0.9, bagging_freq=4, feature_fraction=0.6, lambda_l1=0.6, lambda_l2=0, learning_rate=0.1, max_depth=5, n_estimators=200, num_leaves=32 \n",
            "[CV]  bagging_fraction=0.9, bagging_freq=4, feature_fraction=0.6, lambda_l1=0.6, lambda_l2=0, learning_rate=0.1, max_depth=5, n_estimators=200, num_leaves=32, score=0.916, total=   2.7s\n",
            "[CV] bagging_fraction=0.9, bagging_freq=4, feature_fraction=0.6, lambda_l1=0.6, lambda_l2=0, learning_rate=0.1, max_depth=5, n_estimators=200, num_leaves=32 \n",
            "[CV]  bagging_fraction=0.9, bagging_freq=4, feature_fraction=0.6, lambda_l1=0.6, lambda_l2=0, learning_rate=0.1, max_depth=5, n_estimators=200, num_leaves=32, score=0.916, total=   2.8s\n",
            "[CV] bagging_fraction=0.9, bagging_freq=4, feature_fraction=0.6, lambda_l1=0.6, lambda_l2=0, learning_rate=0.1, max_depth=5, n_estimators=200, num_leaves=32 \n",
            "[CV]  bagging_fraction=0.9, bagging_freq=4, feature_fraction=0.6, lambda_l1=0.6, lambda_l2=0, learning_rate=0.1, max_depth=5, n_estimators=200, num_leaves=32, score=0.918, total=   2.8s\n"
          ],
          "name": "stdout"
        },
        {
          "output_type": "stream",
          "text": [
            "[Parallel(n_jobs=1)]: Done  40 out of  40 | elapsed:  1.5min finished\n"
          ],
          "name": "stderr"
        },
        {
          "output_type": "stream",
          "text": [
            "Best score: 0.919700\n",
            "Best parameters set:\n",
            "\tbagging_fraction: 0.9\n",
            "\tbagging_freq: 2\n",
            "\tfeature_fraction: 0.6\n",
            "\tlambda_l1: 0.6\n",
            "\tlambda_l2: 0\n",
            "\tlearning_rate: 0.1\n",
            "\tmax_depth: 5\n",
            "\tn_estimators: 150\n",
            "\tnum_leaves: 32\n",
            "LGBMClassifier(bagging_fraction=0.9, bagging_freq=2, boosting_type='dart',\n",
            "               class_weight=None, colsample_bytree=1.0, device_tpye='gpu',\n",
            "               feature_fraction=0.6, importance_type='split', lambda_l1=0.6,\n",
            "               lambda_l2=0, learning_rate=0.1, max_depth=5, metric='auc',\n",
            "               min_child_samples=20, min_child_weight=0.001, min_split_gain=0.0,\n",
            "               n_estimators=150, n_jobs=-1, num_leaves=32, objective='binary',\n",
            "               random_state=None, reg_alpha=0.0, reg_lambda=0.0, silent=True,\n",
            "               subsample=1.0, subsample_for_bin=200000, subsample_freq=0)\n",
            "accuracy:0.918140\n",
            "0.00035999999999991594\n"
          ],
          "name": "stdout"
        }
      ]
    },
    {
      "cell_type": "code",
      "metadata": {
        "id": "CQY63iDfzmV_"
      },
      "source": [
        ""
      ],
      "execution_count": null,
      "outputs": []
    }
  ]
}