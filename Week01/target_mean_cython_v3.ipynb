{
  "nbformat": 4,
  "nbformat_minor": 0,
  "metadata": {
    "kernelspec": {
      "display_name": "Python 3",
      "language": "python",
      "name": "python3"
    },
    "language_info": {
      "codemirror_mode": {
        "name": "ipython",
        "version": 3
      },
      "file_extension": ".py",
      "mimetype": "text/x-python",
      "name": "python",
      "nbconvert_exporter": "python",
      "pygments_lexer": "ipython3",
      "version": "3.6.9"
    },
    "colab": {
      "name": "target_mean_cython-Copy5.ipynb",
      "provenance": []
    }
  },
  "cells": [
    {
      "cell_type": "code",
      "metadata": {
        "colab": {
          "base_uri": "https://localhost:8080/"
        },
        "id": "9tWodHZZVZp4",
        "outputId": "0e29ec7a-0f88-4817-82bf-7aaebfab7882"
      },
      "source": [
        "%load_ext Cython"
      ],
      "execution_count": 9,
      "outputs": [
        {
          "output_type": "stream",
          "text": [
            "The Cython extension is already loaded. To reload it, use:\n",
            "  %reload_ext Cython\n"
          ],
          "name": "stdout"
        }
      ]
    },
    {
      "cell_type": "code",
      "metadata": {
        "id": "xOLzJ4VCVZqE"
      },
      "source": [
        "%%cython --cplus \n",
        "#cython: language_level=3, boundscheck=False, wraparound=False, initializedcheck=False, cdivision=True\n",
        "# %%cython -a\n",
        "# cython: profile=True\n",
        "# cython: linetrace=True\n",
        "# cython: binding=True\n",
        "# distutils: define_macros=CYTHON_TRACE_NOGIL=1\n",
        "\n",
        "cimport numpy as cnp\n",
        "from cython.parallel import prange\n",
        "import numpy as np\n",
        "import pandas as pd\n",
        "import time\n",
        "\n",
        "cpdef target_mean_v3(data, y_name, x_name):\n",
        "    cdef int x_max = data.shape[0]\n",
        "    DTYPE = np.double\n",
        "\n",
        "    cdef cnp.ndarray[double,ndim=1] result = np.zeros(x_max,dtype=np.float64)\n",
        "    cdef cnp.ndarray[double,ndim=1] value_arr = np.zeros(10)\n",
        "    cdef cnp.ndarray[double,ndim=1] count_arr = np.zeros(10)\n",
        "\n",
        "    cdef cnp.ndarray[long] x_values =data[x_name].values\n",
        "    cdef cnp.ndarray[long] y_values =data[y_name].values\n",
        "    \n",
        "    cdef int i = 0\n",
        "    \n",
        "    for i in prange(x_max,nogil=True):\n",
        "        value_arr[x_values[i]]+=y_values[i]\n",
        "        count_arr[x_values[i]]+=1\n",
        "    for i in prange(x_max,nogil=True):\n",
        "        \n",
        "        result[i] = (value_arr[x_values[i]]-y_values[i])/( count_arr[x_values[i]]-1) \n",
        "    return result\n",
        "        \n",
        "\n",
        "    \n",
        "  \n",
        "\n"
      ],
      "execution_count": 12,
      "outputs": []
    },
    {
      "cell_type": "code",
      "metadata": {
        "colab": {
          "base_uri": "https://localhost:8080/"
        },
        "id": "c6bkeTpcVZqI",
        "outputId": "8d0fe78b-bed3-4fb0-d4c8-2a1780762e9f"
      },
      "source": [
        "y = np.random.randint(2, size=(5000, 1))\n",
        "x = np.random.randint(10, size=(5000, 1))\n",
        "data = pd.DataFrame(np.concatenate([y, x], axis=1), columns=['y', 'x'])\n",
        "start_time = time.time()\n",
        "result = target_mean_v3(data, 'y', 'x')\n",
        "print (result)\n",
        "end_time = time.time()\n",
        "time_cost = end_time - start_time\n",
        "print('time_cost:',time_cost)\n"
      ],
      "execution_count": 13,
      "outputs": [
        {
          "output_type": "stream",
          "text": [
            "[0.50528541 0.51646091 0.51851852 ... 0.52539062 0.53413655 0.47188755]\n",
            "time_cost: 0.002050638198852539\n"
          ],
          "name": "stdout"
        }
      ]
    },
    {
      "cell_type": "code",
      "metadata": {
        "colab": {
          "base_uri": "https://localhost:8080/"
        },
        "id": "1LJ53ytvVZqJ",
        "outputId": "991d6d93-792a-4562-8977-27873d5a633e"
      },
      "source": [
        " target_mean_v3(data, 'y', 'x')"
      ],
      "execution_count": 14,
      "outputs": [
        {
          "output_type": "execute_result",
          "data": {
            "text/plain": [
              "array([0.50528541, 0.51646091, 0.51851852, ..., 0.52539062, 0.53413655,\n",
              "       0.47188755])"
            ]
          },
          "metadata": {
            "tags": []
          },
          "execution_count": 14
        }
      ]
    },
    {
      "cell_type": "code",
      "metadata": {
        "id": "mtZc3pJXVZqK"
      },
      "source": [
        ""
      ],
      "execution_count": null,
      "outputs": []
    }
  ]
}